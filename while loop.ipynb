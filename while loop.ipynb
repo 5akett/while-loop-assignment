{
 "cells": [
  {
   "cell_type": "code",
   "execution_count": 1,
   "id": "c5147ace-7edc-4a71-a626-b630719c6461",
   "metadata": {},
   "outputs": [
    {
     "name": "stdout",
     "output_type": "stream",
     "text": [
      "[1, 3, 5, 7, 9, 11, 13, 15, 17, 19, 21, 23, 25]\n"
     ]
    }
   ],
   "source": [
    "#1.def is used to create a function \n",
    "def odd_numbers():\n",
    "    odd_list = [num for num in range(1, 26) if num % 2 != 0]\n",
    "    return odd_list\n",
    "\n",
    "# Call the function and print the result\n",
    "result = odd_numbers()\n",
    "print(result)"
   ]
  },
  {
   "cell_type": "code",
   "execution_count": 2,
   "id": "a275971b-0f95-4d1e-8af6-3feb210dfb6e",
   "metadata": {},
   "outputs": [
    {
     "name": "stdout",
     "output_type": "stream",
     "text": [
      "1\n",
      "(2, 3, 4, 5)\n",
      "1\n",
      "{'key1': 'value1', 'key2': 'value2'}\n"
     ]
    }
   ],
   "source": [
    "#2.*args and **kwargs are used in Python functions to allow them to accept a variable number of arguments.\n",
    "#use of args and kwargs\n",
    "def example_function(arg1, *args):\n",
    "    print(arg1)\n",
    "    print(args)\n",
    "\n",
    "example_function(1, 2, 3, 4, 5)\n",
    "# Output:\n",
    "# 1\n",
    "# (2, 3, 4, 5)\n",
    "def example_function(arg1, **kwargs):\n",
    "    print(arg1)\n",
    "    print(kwargs)\n",
    "\n",
    "example_function(arg1=1, key1='value1', key2='value2')\n",
    "# Output:\n",
    "# 1\n",
    "# {'key1': 'value1', 'key2': 'value2'}\n"
   ]
  },
  {
   "cell_type": "code",
   "execution_count": 3,
   "id": "f0213077-98da-49f9-8205-56bc0c41b3ae",
   "metadata": {},
   "outputs": [
    {
     "name": "stdout",
     "output_type": "stream",
     "text": [
      "2\n",
      "4\n",
      "6\n",
      "8\n",
      "10\n"
     ]
    }
   ],
   "source": [
    "#3.In Python, an iterator is an object that implements the iterator protocol, which consists of the methods __iter__() and __next__(). Iterators are used to represent a stream of data and allow you to iterate over elements in a sequence, one at a time, without needing to know the underlying details of the data structure.\n",
    "#__iter__ method is used to initialise an iteration object\n",
    "class MyIterator:\n",
    "    def __init__(self, data):\n",
    "        self.data = data\n",
    "        self.index = 0\n",
    "\n",
    "    def __iter__(self):\n",
    "        return self\n",
    "\n",
    "    def __next__(self):\n",
    "        if self.index < len(self.data):\n",
    "            result = self.data[self.index]\n",
    "            self.index += 1\n",
    "            return result\n",
    "        else:\n",
    "            raise StopIteration\n",
    "\n",
    "# Creating the iterator with the given list\n",
    "my_iterator = MyIterator([2, 4, 6, 8, 10, 12, 14, 16, 18, 20])\n",
    "\n",
    "# Using the iterator to print the first five elements\n",
    "for _ in range(5):\n",
    "    print(next(my_iterator))\n"
   ]
  },
  {
   "cell_type": "code",
   "execution_count": 4,
   "id": "4a8be0f6-fb89-4687-99e4-64e8d509b9d5",
   "metadata": {},
   "outputs": [
    {
     "name": "stdout",
     "output_type": "stream",
     "text": [
      "0\n",
      "1\n",
      "1\n",
      "2\n",
      "3\n",
      "5\n",
      "8\n",
      "13\n"
     ]
    }
   ],
   "source": [
    "#4.In Python, a generator function is a special type of function that allows you to create an iterator in a more concise and memory-efficient way. Generator functions use the yield keyword to produce a sequence of values lazily, one at a time, instead of generating all the values at once and storing them in memory.\n",
    "#Instead of using the return keyword to return a value and terminate the function, a generator function uses yield to produce a value and temporarily suspend the function's state until the next iteration.\n",
    "def fibonacci_generator(n):\n",
    "    a, b = 0, 1\n",
    "    count = 0\n",
    "    while count < n:\n",
    "        yield a\n",
    "        a, b = b, a + b\n",
    "        count += 1\n",
    "\n",
    "# Using the generator function\n",
    "for fib_number in fibonacci_generator(8):\n",
    "    print(fib_number)\n"
   ]
  },
  {
   "cell_type": "code",
   "execution_count": 5,
   "id": "335e0ab2-686b-48b1-9c72-9b90d5fb6862",
   "metadata": {},
   "outputs": [
    {
     "name": "stdout",
     "output_type": "stream",
     "text": [
      "2\n",
      "3\n",
      "5\n",
      "7\n",
      "11\n",
      "13\n",
      "17\n",
      "19\n",
      "23\n",
      "29\n",
      "31\n",
      "37\n",
      "41\n",
      "43\n",
      "47\n",
      "53\n",
      "59\n",
      "61\n",
      "67\n",
      "71\n"
     ]
    }
   ],
   "source": [
    "#5.\n",
    "def is_prime(number):\n",
    "    \"\"\"Check if a number is prime.\"\"\"\n",
    "    if number < 2:\n",
    "        return False\n",
    "    for i in range(2, int(number**0.5) + 1):\n",
    "        if number % i == 0:\n",
    "            return False\n",
    "    return True\n",
    "\n",
    "def primes_generator():\n",
    "    \"\"\"Generate prime numbers less than 1000.\"\"\"\n",
    "    candidate = 2\n",
    "    count = 0\n",
    "    while count < 20:\n",
    "        if is_prime(candidate):\n",
    "            yield candidate\n",
    "            count += 1\n",
    "        candidate += 1\n",
    "\n",
    "# Using the generator function with next() to print the first 20 prime numbers\n",
    "prime_gen = primes_generator()\n",
    "\n",
    "for _ in range(20):\n",
    "    print(next(prime_gen))\n"
   ]
  },
  {
   "cell_type": "code",
   "execution_count": 6,
   "id": "0e3154dd-c016-402f-96d8-83d088918d95",
   "metadata": {},
   "outputs": [
    {
     "name": "stdout",
     "output_type": "stream",
     "text": [
      "0\n",
      "1\n",
      "1\n",
      "2\n",
      "3\n",
      "5\n",
      "8\n",
      "13\n",
      "21\n",
      "34\n"
     ]
    }
   ],
   "source": [
    "#6.program to calculate the next Fibonacci number\n",
    "def fibonacci(n):\n",
    "    fib_numbers = [0, 1]\n",
    "    \n",
    "    while len(fib_numbers) < n:\n",
    "        next_fib = fib_numbers[-1] + fib_numbers[-2]\n",
    "        fib_numbers.append(next_fib)\n",
    "    \n",
    "    return fib_numbers\n",
    "\n",
    "# Print the first 10 Fibonacci numbers\n",
    "first_10_fibonacci = fibonacci(10)\n",
    "for number in first_10_fibonacci:\n",
    "    print(number)\n",
    "\n"
   ]
  },
  {
   "cell_type": "code",
   "execution_count": 7,
   "id": "85f3c8d4-3bf5-47cc-be48-cb56844e6c8a",
   "metadata": {},
   "outputs": [
    {
     "name": "stdout",
     "output_type": "stream",
     "text": [
      "['p', 'w', 's', 'k', 'i', 'l', 'l', 's']\n"
     ]
    }
   ],
   "source": [
    "#7.Write a List Comprehension to iterate through the given string: ‘pwskills’.Expected output: ['p', 'w', 's', 'k', 'i', 'l', 'l', 's']\n",
    "input_string = 'pwskills'\n",
    "result_list = [char for char in input_string]\n",
    "print(result_list)\n"
   ]
  },
  {
   "cell_type": "code",
   "execution_count": 8,
   "id": "074c7070-b2d3-4887-8f69-5be6cd3c6b1b",
   "metadata": {},
   "outputs": [
    {
     "name": "stdin",
     "output_type": "stream",
     "text": [
      "Enter a number:  11\n"
     ]
    },
    {
     "name": "stdout",
     "output_type": "stream",
     "text": [
      "11 is a palindrome.\n"
     ]
    }
   ],
   "source": [
    "#8.\n",
    "def is_palindrome(number):\n",
    "    original_number = number\n",
    "    reversed_number = 0\n",
    "\n",
    "    while number > 0:\n",
    "        digit = number % 10\n",
    "        reversed_number = (reversed_number * 10) + digit\n",
    "        number = number // 10\n",
    "\n",
    "    return original_number == reversed_number\n",
    "\n",
    "# Input from the user\n",
    "num = int(input(\"Enter a number: \"))\n",
    "\n",
    "# Check if the number is a palindrome\n",
    "if is_palindrome(num):\n",
    "    print(f\"{num} is a palindrome.\")\n",
    "else:\n",
    "    print(f\"{num} is not a palindrome.\")\n"
   ]
  },
  {
   "cell_type": "code",
   "execution_count": 9,
   "id": "8df0bf78-d37d-483e-91cf-592e3cc3f881",
   "metadata": {},
   "outputs": [
    {
     "name": "stdout",
     "output_type": "stream",
     "text": [
      "[1, 3, 5, 7, 9, 11, 13, 15, 17, 19, 21, 23, 25, 27, 29, 31, 33, 35, 37, 39, 41, 43, 45, 47, 49, 51, 53, 55, 57, 59, 61, 63, 65, 67, 69, 71, 73, 75, 77, 79, 81, 83, 85, 87, 89, 91, 93, 95, 97, 99]\n"
     ]
    }
   ],
   "source": [
    "#9\n",
    "# Using list comprehension to create a list from 1 to 100\n",
    "numbers = [num for num in range(1, 101)]\n",
    "\n",
    "# Using another list comprehension to filter out odd numbers\n",
    "odd_numbers = [num for num in numbers if num % 2 != 0]\n",
    "\n",
    "# Print the list of odd numbers\n",
    "print(odd_numbers)\n"
   ]
  },
  {
   "cell_type": "code",
   "execution_count": null,
   "id": "1605adbf-a5a8-4b0c-88f0-3070a7f4fbfc",
   "metadata": {},
   "outputs": [],
   "source": []
  }
 ],
 "metadata": {
  "kernelspec": {
   "display_name": "Python 3 (ipykernel)",
   "language": "python",
   "name": "python3"
  },
  "language_info": {
   "codemirror_mode": {
    "name": "ipython",
    "version": 3
   },
   "file_extension": ".py",
   "mimetype": "text/x-python",
   "name": "python",
   "nbconvert_exporter": "python",
   "pygments_lexer": "ipython3",
   "version": "3.10.8"
  }
 },
 "nbformat": 4,
 "nbformat_minor": 5
}
